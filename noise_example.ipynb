{
 "cells": [
  {
   "cell_type": "code",
   "execution_count": null,
   "id": "03ed71e0-435b-4db6-aa27-b169f0649615",
   "metadata": {},
   "outputs": [],
   "source": [
    "import qmeq\n",
    "import numpy as np\n",
    "import matplotlib \n",
    "import matplotlib.pyplot as plt"
   ]
  },
  {
   "cell_type": "markdown",
   "id": "628a9f07",
   "metadata": {},
   "source": [
    "# Define an example system: Spinful single Anderson dot\n",
    "- 2 levels\n",
    "- Coulomb interaction\n",
    "- 4 leads (2 on left and right for spin polarizations)"
   ]
  },
  {
   "cell_type": "code",
   "execution_count": null,
   "id": "29364766-ec16-48b0-be06-f1931b72da86",
   "metadata": {},
   "outputs": [],
   "source": [
    "n = 2\n",
    "h = {(0,0):500, (1,1):500}\n",
    "U = {(0,1,1,0):2000}\n",
    "\n",
    "T = 100\n",
    "nleads = 4\n",
    "mulst = {0:0, 1:0, 2:0, 3:0}\n",
    "tlst = {0:T, 1:2*T, 2:T, 3:2*T}\n",
    "\n",
    "gammaL = 1.5\n",
    "gammaR = .5\n",
    "tL = np.sqrt(gammaL/np.pi/2)\n",
    "tR = np.sqrt(gammaR/np.pi/2)\n",
    "\n",
    "tleads = {(0, 0):tL, (1, 0):tR, (2, 1):tL, (3, 1):tR}\n"
   ]
  },
  {
   "cell_type": "markdown",
   "id": "e4c93a26",
   "metadata": {},
   "source": [
    "Define a system where we count at the left lead and use the pyLindblad approach, i.e. leads 0 and 2 with the way we chose couplings above:"
   ]
  },
  {
   "cell_type": "code",
   "execution_count": null,
   "id": "bdb37d2e",
   "metadata": {},
   "outputs": [],
   "source": [
    "\n",
    "system_L = qmeq.Builder(nsingle=n, hsingle=h, coulomb=U, nleads=nleads,\n",
    "                         mulst=mulst, tlst=tlst, tleads=tleads, dband=1e4, countingleads=[0,2], kerntype='pyLindblad')"
   ]
  },
  {
   "cell_type": "markdown",
   "id": "233f1859",
   "metadata": {},
   "source": [
    "Define a system where we count at the RIGHT lead and use the pyRTDnoise approach, i.e. leads 1 and 3 with the way we chose couplings above (note, that we set `off_diag_corrections=False`, they are not implemented):\n"
   ]
  },
  {
   "cell_type": "code",
   "execution_count": null,
   "id": "fac065b9",
   "metadata": {},
   "outputs": [],
   "source": [
    "\n",
    "system_R = qmeq.Builder(nsingle=n, hsingle=h, coulomb=U, nleads=nleads,\n",
    "                         mulst=mulst, tlst=tlst, tleads=tleads, dband=1e4, countingleads=[1,3], kerntype='pyRTDnoise')\n",
    "system_R.off_diag_corrections=False"
   ]
  },
  {
   "cell_type": "markdown",
   "id": "5003f4f3",
   "metadata": {},
   "source": [
    "We can now as usual solve the system and also look at curren_noise.\n",
    "Note,  that `system.current` is lead resolved, while `system.current_noise` contains currents and noise at a specified set of leads."
   ]
  },
  {
   "cell_type": "code",
   "execution_count": null,
   "id": "24b06a56",
   "metadata": {},
   "outputs": [],
   "source": [
    "\n",
    "system_L.solve()\n",
    "system_R.solve()\n",
    "print('Standard current system_L:',system_L.current)\n",
    "print('Standard current system_R:',system_R.current)\n",
    "print('Counting currents and noise at the left lead (Lindblad):',system_L.current_noise)\n",
    "print('Counting currents and noise at the right lead (RTD):',system_R.current_noise.real)"
   ]
  },
  {
   "cell_type": "markdown",
   "id": "9e54c86f",
   "metadata": {},
   "source": [
    "Note here, that the current at the left lead is opposite the current at the right lead (current convention in QmeQ is that positive is from lead to dot)\n",
    "\n",
    "We can like normal calculate for example gate sweeps:"
   ]
  },
  {
   "cell_type": "code",
   "execution_count": null,
   "id": "88aa75b3-a0da-4fff-aa62-1ea145d06ee6",
   "metadata": {},
   "outputs": [],
   "source": [
    "Vg = np.linspace(-1500, 3500, 100)\n",
    "\n",
    "I = [[], []]\n",
    "I_noise = [[], []]\n",
    "S = [[], []]\n",
    "for i,system in enumerate([system_L, system_R]):\n",
    "    for vg in Vg:\n",
    "        system.change(hsingle={(0,0):-vg, (1,1):-vg})\n",
    "        system.solve()\n",
    "        if system == system_L:\n",
    "            I[i].append(system.current[0] + system.current[2])\n",
    "        elif system == system_R:\n",
    "            I[i].append(system.current[1] + system.current[3])\n",
    "        I_noise[i].append(system.current_noise[0])\n",
    "        S[i].append(system.current_noise[1])"
   ]
  },
  {
   "cell_type": "code",
   "execution_count": null,
   "id": "7bc6d5cb",
   "metadata": {},
   "outputs": [],
   "source": [
    "fig, ax = plt.subplots(1, 2, figsize=(10, 5))\n",
    "ax[0].plot(Vg, I[0], label='L (std)', lw=3)\n",
    "ax[0].plot(Vg, I[1], label='R (std)', lw=3)\n",
    "ax[0].plot(Vg, I_noise[0], label='L (counting)')\n",
    "ax[0].plot(Vg, I_noise[1], label='R (counting)')\n",
    "ax[0].set_xlabel('$V_g$')\n",
    "ax[0].set_ylabel('$I$')\n",
    "ax[0].legend()\n",
    "ax[1].plot(Vg, S[0], label='L')\n",
    "ax[1].plot(Vg, S[1], label='R')\n",
    "ax[1].set_xlabel('$V_g$')\n",
    "ax[1].set_ylabel('$S$')\n",
    "ax[1].legend()"
   ]
  },
  {
   "cell_type": "code",
   "execution_count": null,
   "id": "cff168b6-3451-484f-b4e3-2a652bfdcb89",
   "metadata": {},
   "outputs": [],
   "source": []
  }
 ],
 "metadata": {
  "kernelspec": {
   "display_name": "Python 3",
   "language": "python",
   "name": "python3"
  },
  "language_info": {
   "codemirror_mode": {
    "name": "ipython",
    "version": 3
   },
   "file_extension": ".py",
   "mimetype": "text/x-python",
   "name": "python",
   "nbconvert_exporter": "python",
   "pygments_lexer": "ipython3",
   "version": "3.9.19"
  }
 },
 "nbformat": 4,
 "nbformat_minor": 5
}
